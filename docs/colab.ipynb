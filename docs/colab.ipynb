{
 "cells": [
  {
   "cell_type": "markdown",
   "metadata": {
    "id": "bz8y8QwMKDCc"
   },
   "source": [
    "# Jaxwell\n",
    "\n",
    "Jaxwell is JAX + Maxwell, enabling us to treat nanophotonic inverse design problems as ML training jobs.\n",
    "\n",
    "This example builds an ML model that takes as inputs the structure $z$ and the current sources $b$, performs an electromagnetic simulation, and computes an objective loss, $f(z, b)$.\n",
    "Critically, it also allows for the the gradients $\\partial f / \\partial z$ and $\\partial f / \\partial b$ to be easily computed, so that the objective $f$ can be minimized."
   ]
  },
  {
   "cell_type": "markdown",
   "metadata": {
    "id": "3MsyDB9lMwr_"
   },
   "source": [
    "# Preamble\n",
    "\n",
    "Check to see that we have a GPU, enable JAX's 64-bit mode, install Jaxwell, and import dependencies."
   ]
  },
  {
   "cell_type": "code",
   "execution_count": null,
   "metadata": {
    "colab": {
     "base_uri": "https://localhost:8080/"
    },
    "id": "tSO2BM9pmwct",
    "outputId": "60905acd-f5aa-4822-bc25-4a55c0c18448"
   },
   "outputs": [],
   "source": [
    "# Check to see what GPU we have.\n",
    "!nvidia-smi"
   ]
  },
  {
   "cell_type": "code",
   "execution_count": null,
   "metadata": {
    "colab": {
     "base_uri": "https://localhost:8080/",
     "height": 479
    },
    "id": "j1Hz809sN2oB",
    "outputId": "349f42e5-6b61-413f-fd17-9de0b618b7d3"
   },
   "outputs": [],
   "source": [
    "# Install Jaxwell from github.\n",
    "!pip install git+https://github.com/jan-david-fischbach/jaxwell.git"
   ]
  },
  {
   "cell_type": "code",
   "execution_count": null,
   "metadata": {
    "id": "Yy7Kal_zDyBI"
   },
   "outputs": [],
   "source": [
    "# This is needed to enable JAX's double-precision mode, see\n",
    "# https://jax.readthedocs.io/en/latest/notebooks/Common_Gotchas_in_JAX.html#Double-(64bit)-precision\n",
    "# for additional info.\n",
    "from jax.config import config\n",
    "config.update(\"jax_enable_x64\", True)\n",
    "\n",
    "# Imports.\n",
    "from IPython.display import clear_output\n",
    "import jax\n",
    "import jax.numpy as np\n",
    "from jax.example_libraries import optimizers\n",
    "import jaxwell\n",
    "import matplotlib.pyplot as plt\n",
    "import numpy as onp\n",
    "\n",
    "# Check to make sure double-precision is enabled.\n",
    "assert np.zeros((1,), np.float64).dtype == np.float64"
   ]
  },
  {
   "cell_type": "markdown",
   "metadata": {
    "id": "P20A3D7iNHMh"
   },
   "source": [
    "# Build the optimization model, $f(z, b)$\n",
    "\n",
    "The model should take the structure $z$ and source $b$ and returns a real-valued scalar objective $f$ with Maxwell's equations mixed in there somewhere 😊.\n",
    "\n",
    "For time considerations, we only perform a 2D simulation where only $E_x \\neq 0$."
   ]
  },
  {
   "cell_type": "code",
   "execution_count": null,
   "metadata": {
    "id": "L5OGvbGSjeCy"
   },
   "outputs": [],
   "source": [
    "# Helper functions for building the structure and source sub-models.\n",
    "def split_int(a):\n",
    "  '''Split integer `a` as evenly as possible.'''\n",
    "  return (a // 2, a // 2 + a % 2)\n",
    "\n",
    "def pad(x, shape):\n",
    "  '''Pad array `x` up to `shape`.'''\n",
    "  return np.pad(x, [split_int(a - b) for a, b in zip(shape, x.shape)])\n",
    "\n",
    "def scaleto(x, lims):\n",
    "  '''Scale the values of `x` from `[0, 1]` to `lims`.'''\n",
    "  (a, b) = lims\n",
    "  return (b - a) * x + a\n"
   ]
  },
  {
   "cell_type": "code",
   "execution_count": null,
   "metadata": {
    "id": "3WmOzEi6OuZl"
   },
   "outputs": [],
   "source": [
    "# Build the structure, source, and loss sub-models.\n",
    "\n",
    "def structure(theta, thickness, shape):\n",
    "  '''Builds the epsilon structure.\n",
    "\n",
    "  The structure is a slab of material located in the center of the simulation.\n",
    "  `theta` is extruded along the `z`-axis by `thickness` pixels, zero-padded to\n",
    "  the full simulation size, and finally scaled from `[0, 1]` to `epsilon_range`.\n",
    "\n",
    "  For simplicity, we do not take into account the offsets between the x-, y-,\n",
    "  and z-components of epsilon in the Yee cell.\n",
    "\n",
    "  Args:\n",
    "    theta: `(xx, yy)` array with elements within `[0, 1]`.\n",
    "    thickness: thickness of slab in pixels.\n",
    "    shape: `(xx, yy, zz)` tuple defining the shape of the simulation.\n",
    "  '''\n",
    "  z = np.reshape(pad(theta, shape[:2]), shape[:2] + (1,))\n",
    "  z = np.repeat(z, thickness, axis=2)\n",
    "  z = np.pad(z, [(0, 0)] * 2 + [split_int(shape[2] - thickness)])\n",
    "  return (z, z, z)\n",
    "\n",
    "def source(currents, z_location, shape):\n",
    "  '''Inserts `currents` into the simulation at `z_location`.\n",
    "\n",
    "  Args:\n",
    "    currents: `(xx, yy)` array accepting complex-valued elements.\n",
    "    z_location: location of the current source along z in pixels.\n",
    "    shape: `(xx, yy, zz)` defining the shape of the simulation.\n",
    "  '''\n",
    "  b = np.reshape(pad(currents, shape[:2]), shape[:2] + (1,))\n",
    "  b = np.pad(b, [(0, 0)] * 2 + [(z_location - 1, shape[2] - z_location)])\n",
    "  b_zero = onp.zeros(shape, onp.complex128)\n",
    "  return (b, b_zero, b_zero)\n",
    "\n",
    "def loss(x):\n",
    "  '''Objective loss function of the simulation field `x`.\n",
    "\n",
    "  Implements a \"focusing\" objective which simply attempts to maximize the\n",
    "  intensity at a point below the structure.\n",
    "\n",
    "  Args:\n",
    "    x: Tuple of 3 `(xx, yy, zz)` arrays as returned by solving with Jaxwell.\n",
    "  '''\n",
    "  s = x[0].shape\n",
    "  return -np.linalg.norm(x[0][s[0] // 2, s[1] // 2, 3 * s[2] // 4])\n"
   ]
  },
  {
   "cell_type": "code",
   "execution_count": null,
   "metadata": {
    "id": "fTFh-aOyEA1S"
   },
   "outputs": [],
   "source": [
    "def model_fns(shape, slab_thickness):\n",
    "  '''`f()` and `visualize()` functions for our model.\n",
    "\n",
    "  Args:\n",
    "    shape: `(xx, yy, zz)` defining the simulation volume.\n",
    "    slab_thickness: thickness of the slab in pixels.\n",
    "  '''\n",
    "  dx = 40  # Grid spacing.\n",
    "  wavelength = 1550 / dx   # Wavelength in grid units.\n",
    "  omega = 2 * onp.pi / wavelength  # Angular frequency in grid units.\n",
    "  epsilon_range=(2.25, 12.25)  # Epsilon from SiO2 to Si.\n",
    "\n",
    "  # Set the simulation parameters.\n",
    "  params = jaxwell.Params(\n",
    "                       pml_ths=((0, 0), (10, 10), (10, 10)),\n",
    "                       pml_omega=omega,\n",
    "                       eps=1e-6,\n",
    "                       max_iters=1000000)\n",
    "\n",
    "  def _model(theta, currents):\n",
    "    '''Build a basic model.'''\n",
    "    # Create the full vectorial arrays.\n",
    "    theta = np.clip(theta, 0, 1)  # Clip values outside of `[0, 1]`.\n",
    "    theta = structure(theta, thickness=slab_thickness, shape=shape)\n",
    "    currents = currents / np.linalg.norm(currents)  # Normalize to norm of 1.\n",
    "    b = source(currents, z_location=15, shape=shape)\n",
    "\n",
    "    # Scale by the angular frequency as is expected for Jaxwell.\n",
    "    z = tuple(omega**2 * scaleto(t, epsilon_range) for t in theta)\n",
    "    b = tuple(np.complex128(-1j * omega * b) for b in b)\n",
    "\n",
    "    # Simulate.\n",
    "    x, err = jaxwell.solve(params, z, b)\n",
    "\n",
    "    return x, err, theta\n",
    "\n",
    "  def f(theta, currents):\n",
    "    '''The function `f` to optimize over.'''\n",
    "    x, _, _ = _model(theta, currents)\n",
    "    return loss(x)\n",
    "\n",
    "  def vis_field(theta, currents, fn=np.imag):\n",
    "    '''For eyeballs.'''\n",
    "    x, err, full_theta = _model(theta, currents)\n",
    "    plt.imshow(fn(x[0][0].T), alpha=1 - 0.2 * full_theta[0][0].T)\n",
    "    plt.title(f'Objective: {loss(x):.3f}, Error: {err:1.1e}')\n",
    "\n",
    "  def vis_structure(theta):\n",
    "    '''Also for eyeballs.'''\n",
    "    plt.plot(theta.flatten(), '.-')\n",
    "    plt.fill_between(\n",
    "        range(len(theta.flatten())),\n",
    "        theta.flatten(),\n",
    "        0,\n",
    "        color='blue',\n",
    "        alpha=0.2)\n",
    "    plt.title('Theta values (unclipped)')\n",
    "    plt.ylim(-1, 2)\n",
    "\n",
    "  def vis_source(currents):\n",
    "    '''Eyeballs, again.'''\n",
    "    c = currents.flatten()\n",
    "    c = c / np.linalg.norm(c)\n",
    "    plt.plot(np.real(c), 'b.-')\n",
    "    plt.plot(np.imag(c), 'g.-')\n",
    "    plt.plot(np.abs(c), 'k.-')\n",
    "    plt.title('Currents (normalized)')\n",
    "\n",
    "  return f, vis_field, vis_structure, vis_source\n"
   ]
  },
  {
   "cell_type": "code",
   "execution_count": null,
   "metadata": {
    "colab": {
     "base_uri": "https://localhost:8080/",
     "height": 379
    },
    "id": "tP5-LjjNZpOB",
    "outputId": "36abea56-8500-4641-b50e-a258253f6815"
   },
   "outputs": [],
   "source": [
    "# Testing the model functions.\n",
    "f, vis_field, vis_structure, vis_currents = model_fns(shape=(1, 100, 60), slab_thickness=8)\n",
    "\n",
    "theta = np.ones((1, 70))\n",
    "currents = -1 * np.ones((1, 20), np.complex128)\n",
    "\n",
    "print(f'Objective: {f(theta, currents):.3f}')\n",
    "\n",
    "\n",
    "plt.figure(figsize=(18, 4))\n",
    "plt.subplot(1, 3, 1)\n",
    "vis_field(theta, currents)\n",
    "plt.subplot(1, 3, 2)\n",
    "vis_structure(theta)\n",
    "plt.subplot(1, 3, 3)\n",
    "vis_currents(currents)"
   ]
  },
  {
   "cell_type": "markdown",
   "metadata": {
    "id": "lgJEc3kqmL0Q"
   },
   "source": [
    "# Optimizing $f(z, b)$\n",
    "\n",
    "We now perform gradient descent optimization on the objective function, optimizing for either $z$, $b$, or both."
   ]
  },
  {
   "cell_type": "code",
   "execution_count": null,
   "metadata": {
    "id": "w82r16mSmLG7"
   },
   "outputs": [],
   "source": [
    "# General optimization routine using JAX's experimental optimizers, see\n",
    "# https://jax.readthedocs.io/en/latest/jax.experimental.optimizers.html.\n",
    "\n",
    "def optimize(f, vis, params, num_steps, **opt_args):\n",
    "  opt_init, opt_update, get_params = optimizers.sgd(**opt_args)\n",
    "  opt_state = opt_init(params)\n",
    "\n",
    "  def step(step, opt_state):\n",
    "    value, grads = jax.value_and_grad(f)(get_params(opt_state))\n",
    "    opt_state = opt_update(step, grads, opt_state)\n",
    "    return value, opt_state\n",
    "\n",
    "  values = []\n",
    "  for i in range(num_steps):\n",
    "    value, opt_state = step(i, opt_state)\n",
    "    params = get_params(opt_state)\n",
    "    values.append(value)\n",
    "    vis_progress(values, params, vis)\n",
    "\n",
    "  return params\n",
    "\n",
    "def vis_progress(values, params, vis):\n",
    "  clear_output(wait=True)\n",
    "  plt.figure(figsize=(18, 5))\n",
    "\n",
    "  plt.subplot(1, 2, 1)\n",
    "  plt.title('Objective function')\n",
    "  plt.xlabel('Step number')\n",
    "  plt.plot(values, '.-')\n",
    "\n",
    "  plt.subplot(1, 2, 2)\n",
    "  vis(params)\n",
    "\n",
    "  plt.show()\n"
   ]
  },
  {
   "cell_type": "markdown",
   "metadata": {
    "id": "WOXlw_0GQXHN"
   },
   "source": [
    "## Optimizing $b$"
   ]
  },
  {
   "cell_type": "code",
   "execution_count": null,
   "metadata": {
    "id": "PlBVdb-P5B67"
   },
   "outputs": [],
   "source": [
    "# Optimizer for the current source.\n",
    "def optimize_currents(init_currents, num_steps, step_size):\n",
    "  theta = np.zeros((1, 70))\n",
    "  opt_currents = optimize(\n",
    "      f=lambda currents: f(theta, currents),\n",
    "      vis=vis_currents,\n",
    "      params=init_currents,\n",
    "      num_steps=num_steps,\n",
    "      step_size=step_size)\n",
    "\n",
    "  plt.figure(figsize=(18, 5))\n",
    "  plt.subplot(1, 2, 1)\n",
    "  vis_field(theta, init_currents, fn=np.abs)\n",
    "  plt.subplot(1, 2, 2)\n",
    "  vis_field(theta, opt_currents, fn=np.abs)\n"
   ]
  },
  {
   "cell_type": "code",
   "execution_count": null,
   "metadata": {
    "colab": {
     "base_uri": "https://localhost:8080/",
     "height": 852
    },
    "id": "4DqogaIlQbu1",
    "outputId": "9e4aa9fa-17a1-41d8-9e9a-8a0b2c23ed28"
   },
   "outputs": [],
   "source": [
    "# Run the optimization.\n",
    "pos = np.linspace(-5, 5, num=70)\n",
    "init_currents = np.reshape(np.exp(-np.square(pos)), (1, 70))\n",
    "optimize_currents(init_currents, 10, 1e3)\n"
   ]
  },
  {
   "cell_type": "markdown",
   "metadata": {
    "id": "DpO1vB0fQe4c"
   },
   "source": [
    "## Optimizing $z$"
   ]
  },
  {
   "cell_type": "code",
   "execution_count": null,
   "metadata": {
    "id": "BS1ltidg1BTE"
   },
   "outputs": [],
   "source": [
    "# Optimizer for the structure.\n",
    "def optimize_theta(init_theta, num_steps, step_size):\n",
    "  currents = np.ones((1, 20))\n",
    "  opt_theta = optimize(\n",
    "      f=lambda theta: f(theta, currents),\n",
    "      vis=vis_structure,\n",
    "      params=init_theta,\n",
    "      num_steps=num_steps,\n",
    "      step_size=step_size)\n",
    "\n",
    "  plt.figure(figsize=(18, 5))\n",
    "  plt.subplot(1, 2, 1)\n",
    "  vis_field(init_theta, currents, fn=np.abs)\n",
    "  plt.subplot(1, 2, 2)\n",
    "  vis_field(opt_theta, currents, fn=np.abs)\n",
    "\n"
   ]
  },
  {
   "cell_type": "code",
   "execution_count": null,
   "metadata": {
    "colab": {
     "base_uri": "https://localhost:8080/",
     "height": 852
    },
    "id": "WYXJeqNpyWdj",
    "outputId": "0ed7b24c-2b86-4f84-a646-ac5d50957dcd"
   },
   "outputs": [],
   "source": [
    "# Start with `theta=0` everywhere.\n",
    "optimize_theta(\n",
    "    init_theta=0.0 * np.ones((1, 70)),\n",
    "    num_steps=12,\n",
    "    step_size=3e1,\n",
    "    )"
   ]
  },
  {
   "cell_type": "code",
   "execution_count": null,
   "metadata": {
    "colab": {
     "base_uri": "https://localhost:8080/",
     "height": 854
    },
    "id": "Gs5NRBIUQwIX",
    "outputId": "ba14da6c-8610-489f-d06c-e28c3a4db8f3"
   },
   "outputs": [],
   "source": [
    "# Start with `theta=0.5` everywhere.\n",
    "opt_theta = optimize_theta(\n",
    "    init_theta=0.5 * np.ones((1, 70)),\n",
    "    num_steps=12,\n",
    "    step_size=3e1,\n",
    "    )"
   ]
  },
  {
   "cell_type": "code",
   "execution_count": null,
   "metadata": {
    "colab": {
     "base_uri": "https://localhost:8080/",
     "height": 538
    },
    "id": "0Ysw-qF9QiZM",
    "outputId": "25ce0708-7df2-4598-bc58-021faa90879e"
   },
   "outputs": [],
   "source": [
    "# Start with `theta=1` everywhere.\n",
    "opt_theta = optimize_theta(\n",
    "    init_theta=np.ones((1, 70)),\n",
    "    num_steps=12,\n",
    "    step_size=2e1,\n",
    "    )"
   ]
  },
  {
   "cell_type": "markdown",
   "metadata": {
    "id": "xNMfL-GLQyri"
   },
   "source": [
    "## Optimizing both $z$ and $b$"
   ]
  },
  {
   "cell_type": "code",
   "execution_count": null,
   "metadata": {
    "colab": {
     "base_uri": "https://localhost:8080/",
     "height": 795
    },
    "id": "veE5A1ZeOj-N",
    "outputId": "ac5ff926-78ea-4e5b-9d0e-677280d79cb5"
   },
   "outputs": [],
   "source": [
    "# Optimizers for the current and structure separately and together.\n",
    "def optimize_both(init, num_steps, step_size):\n",
    "  def vis_just_structure(params):\n",
    "    vis_structure(params[0])\n",
    "\n",
    "  opt = optimize(\n",
    "      f=lambda init: f(init[0], init[1]),\n",
    "      vis=vis_just_structure,\n",
    "      params=init,\n",
    "      num_steps=num_steps,\n",
    "      step_size=step_size)\n",
    "\n",
    "  plt.figure(figsize=(18, 5))\n",
    "  plt.subplot(1, 2, 1)\n",
    "  vis_field(init[0], init[1], fn=np.abs)\n",
    "  plt.subplot(1, 2, 2)\n",
    "  vis_field(opt[0], opt[1], fn=np.abs)\n",
    "\n",
    "  plt.figure(figsize=(18, 5))\n",
    "  plt.subplot(1, 2, 1)\n",
    "  vis_currents(init[1])\n",
    "  plt.subplot(1, 2, 2)\n",
    "  vis_currents(opt[1])\n",
    "\n",
    "pos = np.linspace(-5, 5, num=70)\n",
    "init_currents = np.reshape(np.exp(-np.square(pos)), (1, 70))\n",
    "init_theta = np.zeros((1, 70))\n",
    "optimize_both((init_theta, init_currents), 20, 3e1)\n"
   ]
  }
 ],
 "metadata": {
  "accelerator": "GPU",
  "colab": {
   "name": "Jaxwell",
   "provenance": []
  },
  "kernelspec": {
   "display_name": "Python 3",
   "name": "python3"
  }
 },
 "nbformat": 4,
 "nbformat_minor": 0
}
