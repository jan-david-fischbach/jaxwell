{
 "cells": [
  {
   "cell_type": "code",
   "execution_count": null,
   "metadata": {},
   "outputs": [],
   "source": [
    "import treams as tr\n",
    "import numpy as onp\n",
    "import matplotlib.pyplot as plt"
   ]
  },
  {
   "cell_type": "code",
   "execution_count": null,
   "metadata": {},
   "outputs": [],
   "source": [
    "basis = tr.SphericalWaveBasis.default(1)"
   ]
  },
  {
   "cell_type": "code",
   "execution_count": null,
   "metadata": {},
   "outputs": [],
   "source": [
    "def to_spherical_coordinates(x,y,z):\n",
    "    r = onp.sqrt(x**2+y**2+z**2)\n",
    "    theta = onp.arccos(z/r)\n",
    "    phi = onp.sign(y)*onp.arccos(x/onp.sqrt(x**2+y**2))\n",
    "    theta[r==0] = 0\n",
    "    phi[r==0] = 0\n",
    "    return r, theta, phi\n"
   ]
  },
  {
   "cell_type": "code",
   "execution_count": null,
   "metadata": {},
   "outputs": [],
   "source": [
    "resolution = 101\n",
    "x = y = z = onp.linspace(-4*onp.pi, 4*onp.pi, resolution)\n",
    "positions = onp.meshgrid(x, y, z)\n",
    "positions_spherical = to_spherical_coordinates(*positions)\n",
    "\n"
   ]
  },
  {
   "cell_type": "code",
   "execution_count": null,
   "metadata": {},
   "outputs": [],
   "source": [
    "for input_vector in basis:\n",
    "    #field = tr.special.vsw_rA(input_vector[1], input_vector[2], *positions_spherical, input_vector[3])\n",
    "    if input_vector[3]:\n",
    "        field = tr.special.vsw_rN(input_vector[1], input_vector[2], *positions_spherical)\n",
    "    else:\n",
    "        field = tr.special.vsw_rM(input_vector[1], input_vector[2], *positions_spherical)\n",
    "    \n",
    "    fig, axs = plt.subplots(1, 3, figsize=(6,2))\n",
    "    labels = [\"r\", \"$\\\\theta$\", \"$\\phi$\"]\n",
    "    for i, ax in enumerate(axs):\n",
    "        plt.sca(ax)\n",
    "        #im = ax.contourf(onp.real(field[:,:,resolution//2,i]),vmin = -0.1, vmax = 0.1, cmap=\"RdBu\")\n",
    "        im = plt.contourf(onp.abs(field[:,:,resolution//2,i]),vmax = 0.2)\n",
    "        plt.text(-12, -12, labels[i], )\n",
    "        plt.axis(\"off\")\n",
    "    plt.suptitle(input_vector)\n"
   ]
  },
  {
   "cell_type": "markdown",
   "metadata": {},
   "source": [
    "$$\\nabla\\times\\left(\\frac{1}{\\mu(\\mathbf{r})}\\nabla\\times\\mathbf{E}_{\\mathrm{scat}}\\left(\\mathbf{r}\\right)\\right)-\\omega^{2}\\epsilon\\left(\\mathbf{r}\\right)\\mathbf{E}_{\\mathrm{scat}}\\left(\\mathbf{r}\\right)=\\nabla\\times\\left(\\frac{1}{\\mu(\\mathbf{r})}\\nabla\\times\\mathbf{E}_{\\mathrm{inc}}\\left(\\mathbf{r}\\right)\\right)-\\omega^{2}\\epsilon\\left(\\mathbf{r}\\right)\\mathbf{E}_{\\mathrm{inc}}\\left(\\mathbf{r}\\right).$$"
   ]
  },
  {
   "cell_type": "markdown",
   "metadata": {},
   "source": [
    "$$\\nabla\\times\\left(\\frac{1}{\\mu(\\mathbf{r})}\\nabla\\times\\mathbf{E}_{\\mathrm{scat}}\\left(\\mathbf{r}\\right)\\right)-\\omega^{2}\\epsilon\\left(\\mathbf{r}\\right)\\mathbf{E}_{\\mathrm{scat}}\\left(\\mathbf{r}\\right)=\\omega^{2}\\mathbf{E}_{\\mathrm{inc}}\\left(\\mathbf{r}\\right)\\left[\\epsilon_{bg}-\\epsilon_{fg}\\left(\\mathbf{r}\\right)\\right]$$"
   ]
  },
  {
   "cell_type": "code",
   "execution_count": null,
   "metadata": {},
   "outputs": [],
   "source": [
    "import treams"
   ]
  },
  {
   "cell_type": "code",
   "execution_count": null,
   "metadata": {},
   "outputs": [],
   "source": [
    "k0 = 2 * onp.pi * 1/1550\n",
    "materials = [treams.Material(12), treams.Material(2)]\n",
    "lmax = 1\n",
    "radius = 20*40\n",
    "spheres = [treams.TMatrix.sphere(lmax, k0, radius, materials)]"
   ]
  },
  {
   "cell_type": "code",
   "execution_count": null,
   "metadata": {},
   "outputs": [],
   "source": [
    "basis = tr.SphericalWaveBasis.default(3)\n",
    "mode = basis[0]"
   ]
  },
  {
   "cell_type": "code",
   "execution_count": null,
   "metadata": {},
   "outputs": [],
   "source": [
    "tm = spheres[-1]\n",
    "inc = treams.spherical_wave(mode[1], mode[2], mode[3], k0=tm.k0, material=tm.material, poltype=\"parity\")\n",
    "sca = tm @ inc.expand(tm.basis)\n",
    "grid = onp.mgrid[-2000:2000:401j, -2000:2000:401j, 0:1].squeeze().transpose((1, 2, 0))\n",
    "valid = tm.valid_points(grid, [radius])\n",
    "field = sca.efield(grid[valid])"
   ]
  },
  {
   "cell_type": "code",
   "execution_count": null,
   "metadata": {},
   "outputs": [],
   "source": [
    "plt.figure(figsize=(6,2))\n",
    "for i in range(3):\n",
    "    plt.subplot(131+i)\n",
    "    intensity = onp.zeros_like(grid[..., 0])\n",
    "    intensity[~valid] = onp.nan\n",
    "    intensity[valid] = onp.abs(field[:,i])\n",
    "    pcm = plt.pcolormesh(\n",
    "        grid[:, 0, 0], grid[0, :, 1], intensity, shading=\"nearest\", vmin=0, vmax=0.03\n",
    "    )\n",
    "    plt.axis(\"off\")\n",
    "    "
   ]
  }
 ],
 "metadata": {
  "kernelspec": {
   "display_name": "phd_env",
   "language": "python",
   "name": "python3"
  },
  "language_info": {
   "codemirror_mode": {
    "name": "ipython",
    "version": 3
   },
   "file_extension": ".py",
   "mimetype": "text/x-python",
   "name": "python",
   "nbconvert_exporter": "python",
   "pygments_lexer": "ipython3",
   "version": "3.10.12"
  }
 },
 "nbformat": 4,
 "nbformat_minor": 2
}
